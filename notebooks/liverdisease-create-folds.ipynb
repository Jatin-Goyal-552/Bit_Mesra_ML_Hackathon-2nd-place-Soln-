{
 "cells": [
  {
   "cell_type": "markdown",
   "id": "2ac65a1b",
   "metadata": {
    "_cell_guid": "b1076dfc-b9ad-4769-8c92-a6c4dae69d19",
    "_uuid": "8f2839f25d086af736a60e9eeb907d3b93b6e0e5",
    "execution": {
     "iopub.execute_input": "2022-01-24T13:46:07.816774Z",
     "iopub.status.busy": "2022-01-24T13:46:07.816297Z",
     "iopub.status.idle": "2022-01-24T13:46:07.821837Z",
     "shell.execute_reply": "2022-01-24T13:46:07.820988Z",
     "shell.execute_reply.started": "2022-01-24T13:46:07.816742Z"
    },
    "papermill": {
     "duration": 0.042586,
     "end_time": "2022-02-26T15:29:28.454446",
     "exception": false,
     "start_time": "2022-02-26T15:29:28.411860",
     "status": "completed"
    },
    "tags": []
   },
   "source": [
    "<a id=\"0\"></a>\n",
    "# <p style=\"background-color:#B721FF;font-family:newtimeroman;color:#444160;font-size:150%;text-align:center;border-radius:20px 60px;\">INTRODUCTION</p>\n",
    "<p style=\"font-family:newtimeroman;font-size:120%;color:#444160;\">In this notebook we will create folds which we will use later while training our model.\n",
    "<a id='top'></a>\n",
    "<div class=\"list-group\" id=\"list-tab\" role=\"tablist\">\n",
    "<p style=\"background-color:#B721FF;font-family:newtimeroman;color:#444160;font-size:150%;text-align:center;border-radius:20px 60px;\">TABLE OF CONTENTS</p>   \n",
    "    \n",
    "* [1. IMPORTING LIBRARIES](#1)\n",
    "    \n",
    "* [2. READ DATASETS](#2)\n",
    "\n",
    "* [3. CREATE FOLDS](#3)\n",
    "   * [3.1 KFold](#3.1)\n",
    "   * [3.2 STRATIFIED-KFold](#3.2)\n",
    "    \n",
    "    \n",
    "* [4. SAVE FOLDS](#4)\n",
    "    \n",
    "* [5. CONCLUSION](#5)\n",
    "    \n",
    "* [6. END](#6)\n",
    "\n",
    "<a id=\"1\"></a>\n",
    "# <p style=\"background-color:#B721FF;font-family:newtimeroman;color:#444160;font-size:150%;text-align:center;border-radius:20px 60px;\">IMPORTING LIBRARIES</p>"
   ]
  },
  {
   "cell_type": "code",
   "execution_count": 1,
   "id": "ebc53ff5",
   "metadata": {
    "execution": {
     "iopub.execute_input": "2022-02-26T15:29:28.541953Z",
     "iopub.status.busy": "2022-02-26T15:29:28.540415Z",
     "iopub.status.idle": "2022-02-26T15:29:32.255734Z",
     "shell.execute_reply": "2022-02-26T15:29:32.256358Z",
     "shell.execute_reply.started": "2022-02-26T15:22:41.790787Z"
    },
    "papermill": {
     "duration": 3.760888,
     "end_time": "2022-02-26T15:29:32.256682",
     "exception": false,
     "start_time": "2022-02-26T15:29:28.495794",
     "status": "completed"
    },
    "tags": []
   },
   "outputs": [
    {
     "data": {
      "text/html": [
       "<style type='text/css'>\n",
       ".datatable table.frame { margin-bottom: 0; }\n",
       ".datatable table.frame thead { border-bottom: none; }\n",
       ".datatable table.frame tr.coltypes td {  color: #FFFFFF;  line-height: 6px;  padding: 0 0.5em;}\n",
       ".datatable .bool    { background: #DDDD99; }\n",
       ".datatable .object  { background: #565656; }\n",
       ".datatable .int     { background: #5D9E5D; }\n",
       ".datatable .float   { background: #4040CC; }\n",
       ".datatable .str     { background: #CC4040; }\n",
       ".datatable .time    { background: #40CC40; }\n",
       ".datatable .row_index {  background: var(--jp-border-color3);  border-right: 1px solid var(--jp-border-color0);  color: var(--jp-ui-font-color3);  font-size: 9px;}\n",
       ".datatable .frame tbody td { text-align: left; }\n",
       ".datatable .frame tr.coltypes .row_index {  background: var(--jp-border-color0);}\n",
       ".datatable th:nth-child(2) { padding-left: 12px; }\n",
       ".datatable .hellipsis {  color: var(--jp-cell-editor-border-color);}\n",
       ".datatable .vellipsis {  background: var(--jp-layout-color0);  color: var(--jp-cell-editor-border-color);}\n",
       ".datatable .na {  color: var(--jp-cell-editor-border-color);  font-size: 80%;}\n",
       ".datatable .sp {  opacity: 0.25;}\n",
       ".datatable .footer { font-size: 9px; }\n",
       ".datatable .frame_dimensions {  background: var(--jp-border-color3);  border-top: 1px solid var(--jp-border-color0);  color: var(--jp-ui-font-color3);  display: inline-block;  opacity: 0.6;  padding: 1px 10px 1px 5px;}\n",
       "</style>\n"
      ],
      "text/plain": [
       "<IPython.core.display.HTML object>"
      ]
     },
     "metadata": {},
     "output_type": "display_data"
    }
   ],
   "source": [
    "import numpy as np\n",
    "import pandas as pd \n",
    "import warnings\n",
    "from sklearn.impute import SimpleImputer\n",
    "import numpy as np\n",
    "import pandas as pd\n",
    "import matplotlib.pyplot as plt\n",
    "import seaborn as sns\n",
    "sns.set(style = \"darkgrid\")\n",
    "%matplotlib inline\n",
    "import gc\n",
    "\n",
    "import time\n",
    "import warnings\n",
    "# pd.set_option('display.max_rows', None)\n",
    "# pd.set_option('display.max_columns', None)\n",
    "# pd.set_option('float_format', '{:f}'.format)\n",
    "warnings.filterwarnings('ignore')\n",
    "\n",
    "import numpy as np\n",
    "import pandas as pd \n",
    "from sklearn.model_selection import KFold\n",
    "\n",
    "import numpy as np\n",
    "import pandas as pd \n",
    "\n",
    "import os\n",
    "import gc\n",
    "import psutil\n",
    "\n",
    "from scipy import stats\n",
    "\n",
    "import matplotlib.pyplot as plt\n",
    "import seaborn as sns\n",
    "sns.set()\n",
    "from sklearn.impute import SimpleImputer\n",
    "from sklearn.preprocessing import StandardScaler, Normalizer,MinMaxScaler\n",
    "from sklearn.preprocessing import RobustScaler\n",
    "\n",
    "from sklearn.linear_model import LogisticRegression, LinearRegression\n",
    "from sklearn.metrics import roc_auc_score,f1_score\n",
    "\n",
    "from xgboost import XGBClassifier, XGBRegressor\n",
    "from sklearn.preprocessing import PowerTransformer\n",
    "from sklearn.preprocessing import PolynomialFeatures\n",
    "\n",
    "from optuna.integration import LightGBMPruningCallback\n",
    "\n",
    "# get skewed features to impute median instead of mean\n",
    "from scipy.stats import skew\n",
    "from sklearn.ensemble import AdaBoostClassifier\n",
    "\n",
    "from sklearn.tree import DecisionTreeClassifier\n",
    "from sklearn import linear_model\n",
    "from sklearn.linear_model import Ridge,Lasso\n",
    "from sklearn.neighbors import KNeighborsClassifier\n",
    "from sklearn.svm import SVC\n",
    "from sklearn.decomposition import PCA\n",
    "\n",
    "from sklearn.neural_network import MLPClassifier\n",
    "from sklearn.metrics import roc_auc_score, accuracy_score\n",
    "from xgboost import XGBRegressor, XGBRFRegressor\n",
    "\n",
    "import itertools\n",
    "import optuna\n",
    "from lightgbm import LGBMClassifier,LGBMRegressor\n",
    "import lightgbm as lgb\n",
    "from sklearn.neural_network import MLPClassifier\n",
    "from sklearn.ensemble import GradientBoostingClassifier\n",
    "from catboost import CatBoostRegressor, CatBoostClassifier\n",
    "\n",
    "from sklearn.experimental import enable_hist_gradient_boosting\n",
    "from sklearn.ensemble import HistGradientBoostingClassifier\n",
    "\n",
    "import warnings\n",
    "warnings.filterwarnings(\"ignore\")\n",
    "from sklearn.model_selection import KFold,StratifiedKFold"
   ]
  },
  {
   "cell_type": "markdown",
   "id": "85221120",
   "metadata": {
    "papermill": {
     "duration": 0.044527,
     "end_time": "2022-02-26T15:29:32.347047",
     "exception": false,
     "start_time": "2022-02-26T15:29:32.302520",
     "status": "completed"
    },
    "tags": []
   },
   "source": [
    "<a id=\"1\"></a>\n",
    "# <p style=\"background-color:#B721FF;font-family:newtimeroman;color:#444160;font-size:150%;text-align:center;border-radius:20px 60px;\">LOADING DATA</p>"
   ]
  },
  {
   "cell_type": "code",
   "execution_count": 2,
   "id": "f96653d7",
   "metadata": {
    "execution": {
     "iopub.execute_input": "2022-02-26T15:29:32.439823Z",
     "iopub.status.busy": "2022-02-26T15:29:32.439079Z",
     "iopub.status.idle": "2022-02-26T15:29:32.496138Z",
     "shell.execute_reply": "2022-02-26T15:29:32.495537Z",
     "shell.execute_reply.started": "2022-02-26T15:22:41.823099Z"
    },
    "papermill": {
     "duration": 0.104223,
     "end_time": "2022-02-26T15:29:32.496321",
     "exception": false,
     "start_time": "2022-02-26T15:29:32.392098",
     "status": "completed"
    },
    "tags": []
   },
   "outputs": [],
   "source": [
    "#sample = pd.read_csv(\"../input/tabular-playground-series-feb-2022/sample_submission.csv\")\n",
    "train  = pd.read_csv(\"../input/liver-disease-competition/train_dataset.csv\")\n",
    "test = pd.read_csv(\"../input/liver-disease-competition/test_dataset.csv\")"
   ]
  },
  {
   "cell_type": "code",
   "execution_count": 3,
   "id": "70cbc9bb",
   "metadata": {
    "execution": {
     "iopub.execute_input": "2022-02-26T15:29:32.603434Z",
     "iopub.status.busy": "2022-02-26T15:29:32.592038Z",
     "iopub.status.idle": "2022-02-26T15:29:32.752388Z",
     "shell.execute_reply": "2022-02-26T15:29:32.751779Z",
     "shell.execute_reply.started": "2022-02-26T15:22:41.895872Z"
    },
    "papermill": {
     "duration": 0.208451,
     "end_time": "2022-02-26T15:29:32.752533",
     "exception": false,
     "start_time": "2022-02-26T15:29:32.544082",
     "status": "completed"
    },
    "tags": []
   },
   "outputs": [],
   "source": [
    "train.drop('Cholesterol',axis=1,inplace=True)  # because almost 44% nan value\n",
    "test.drop('Cholesterol',axis=1,inplace=True)\n",
    "\n",
    "train.drop('Tryglicerides',axis=1,inplace=True)  # because almost 40% nan value\n",
    "test.drop('Tryglicerides',axis=1,inplace=True)\n",
    "\n",
    "all_features = list(test.columns)[1:]\n",
    "\n",
    "df = pd.concat([train[all_features], test[all_features]], axis=0)\n",
    "dobj = df.select_dtypes(['object'])\n",
    "obj_cols= dobj.columns\n",
    "\n",
    "train[obj_cols]= train[obj_cols].fillna(value=train[obj_cols].mode().iloc[0,:])\n",
    "test[obj_cols]= test[obj_cols].fillna(value=test[obj_cols].mode().iloc[0,:])\n",
    "\n",
    "dobj = df.select_dtypes(exclude=['object'])\n",
    "int_cols = dobj.columns\n",
    "\n",
    "int_cols1 = ['Albumin','Platelets']\n",
    "int_cols2 = list(set(int_cols)- set(int_cols1))\n",
    "\n",
    "train[int_cols1]= train[int_cols1].fillna(value=train[int_cols1].mean())\n",
    "train[int_cols2]= train[int_cols2].fillna(value=train[int_cols2].mode().iloc[0,:])\n",
    "\n",
    "test[int_cols1]= test[int_cols1].fillna(value=test[int_cols1].mean())\n",
    "test[int_cols2]= test[int_cols2].fillna(value=test[int_cols2].mode().iloc[0,:])\n",
    "\n",
    "train['Bilirubin_modified'] = train['Bilirubin'] * 88.4\n",
    "test['Bilirubin_modified'] = test['Bilirubin'] * 88.4\n",
    "\n",
    "train['normal_Bilirubin'] = ((train.Bilirubin_modified <= 20) & (1 <= train.Bilirubin_modified)).astype(int)\n",
    "test['normal_Bilirubin'] = ((test.Bilirubin_modified <= 20) & (1 <= test.Bilirubin_modified)).astype(int)\n",
    "\n",
    "train['Albumin_modified'] = train['Albumin']* 10\n",
    "test['Albumin_modified'] = test['Albumin']* 10\n",
    "\n",
    "train['normal_Albumin'] = ((train.Albumin_modified <= 44) &  (train.Albumin_modified >= 32)).astype(int)\n",
    "test['normal_Albumin'] = ((test.Albumin_modified <= 44) &  (test.Albumin_modified >= 32)).astype(int)\n",
    "\n",
    "train['normal_Alk_Phos']  =  ((train['Alk_Phos'] <= 140 ) & (train['Alk_Phos'] >= 35 )).astype(int)\n",
    "test['normal_Alk_Phos']  =  ((test['Alk_Phos'] <= 140 ) & (test['Alk_Phos'] >= 35 )).astype(int)\n",
    "\n",
    "train['SGOT_modified'] = train['SGOT']* 1000\n",
    "test['SGOT_modified'] = test['SGOT']* 1000\n",
    "\n",
    "train['normal_SGOT']  =  ((train['SGOT_modified'] <= 30 ) & (train['SGOT_modified'] >= 5 )).astype(int)\n",
    "test['normal_SGOT']  =  ((test['SGOT_modified'] <= 30 ) & (test['SGOT_modified'] >= 5 )).astype(int)\n",
    "\n",
    "# Let's drop duplicates\n",
    "duplicate_cols = ['Bilirubin','Albumin','SGOT'] # we didn't create Alk_Phos_modified\n",
    "test.drop(duplicate_cols, axis=1,inplace=True)\n",
    "train.drop(duplicate_cols, axis=1,inplace=True)\n",
    "\n",
    "useful_cols = test.drop(\"ID\",axis=1).columns\n",
    "\n",
    "t = test.select_dtypes(['object'])\n",
    "obj_cols = t.columns\n",
    "\n",
    "train['isTrain'] = 1\n",
    "test['isTrain'] = 0\n",
    "\n",
    "df = pd.concat([train,test])\n",
    "\n",
    "df['Age_bins']= pd.cut(df.Age.astype(int), 5)\n",
    "\n",
    "from sklearn.preprocessing import OneHotEncoder, LabelEncoder\n",
    "label = LabelEncoder()\n",
    "df['Age_bins']=label.fit_transform(df['Age_bins'])\n",
    "\n",
    "df= pd.get_dummies(data= df,columns=obj_cols,drop_first= True)\n",
    "\n",
    "train = df[df.isTrain == 1]\n",
    "test = df[df.isTrain == 0]\n",
    "\n",
    "train.drop('isTrain', axis= 1,inplace=True)\n",
    "test.drop(['isTrain','Stage'], axis=1, inplace=True)\n",
    "useful_features = test.drop('ID',axis=1).columns.tolist()"
   ]
  },
  {
   "cell_type": "code",
   "execution_count": 4,
   "id": "b89c81be",
   "metadata": {
    "execution": {
     "iopub.execute_input": "2022-02-26T15:29:32.840579Z",
     "iopub.status.busy": "2022-02-26T15:29:32.839622Z",
     "iopub.status.idle": "2022-02-26T15:29:32.843478Z",
     "shell.execute_reply": "2022-02-26T15:29:32.844091Z",
     "shell.execute_reply.started": "2022-02-26T15:22:42.105596Z"
    },
    "papermill": {
     "duration": 0.049996,
     "end_time": "2022-02-26T15:29:32.844293",
     "exception": false,
     "start_time": "2022-02-26T15:29:32.794297",
     "status": "completed"
    },
    "tags": []
   },
   "outputs": [],
   "source": [
    "train_data = train.copy()\n",
    "test_data = test.copy()"
   ]
  },
  {
   "cell_type": "code",
   "execution_count": 5,
   "id": "f8de02f1",
   "metadata": {
    "execution": {
     "iopub.execute_input": "2022-02-26T15:29:32.932745Z",
     "iopub.status.busy": "2022-02-26T15:29:32.931927Z",
     "iopub.status.idle": "2022-02-26T15:29:32.941261Z",
     "shell.execute_reply": "2022-02-26T15:29:32.941849Z",
     "shell.execute_reply.started": "2022-02-26T15:22:42.114431Z"
    },
    "papermill": {
     "duration": 0.054903,
     "end_time": "2022-02-26T15:29:32.942041",
     "exception": false,
     "start_time": "2022-02-26T15:29:32.887138",
     "status": "completed"
    },
    "tags": []
   },
   "outputs": [
    {
     "data": {
      "text/plain": [
       "(6800, 25)"
      ]
     },
     "metadata": {},
     "output_type": "display_data"
    },
    {
     "data": {
      "text/plain": [
       "(3200, 24)"
      ]
     },
     "metadata": {},
     "output_type": "display_data"
    },
    {
     "data": {
      "text/plain": [
       "23"
      ]
     },
     "metadata": {},
     "output_type": "display_data"
    },
    {
     "name": "stdout",
     "output_type": "stream",
     "text": [
      "\n",
      "['N_Days', 'Age', 'Copper', 'Alk_Phos', 'Platelets', 'Prothrombin', 'Bilirubin_modified', 'normal_Bilirubin', 'Albumin_modified', 'normal_Albumin', 'normal_Alk_Phos', 'SGOT_modified', 'normal_SGOT', 'Age_bins', 'Status_CL', 'Status_D', 'Drug_Placebo', 'Sex_M', 'Ascites_Y', 'Hepatomegaly_Y', 'Spiders_Y', 'Edema_S', 'Edema_Y']\n"
     ]
    }
   ],
   "source": [
    "display(train.shape, test_data.shape, len(useful_features))\n",
    "print()\n",
    "print(useful_features)"
   ]
  },
  {
   "cell_type": "code",
   "execution_count": 6,
   "id": "2d6c6028",
   "metadata": {
    "execution": {
     "iopub.execute_input": "2022-02-26T15:29:33.031301Z",
     "iopub.status.busy": "2022-02-26T15:29:33.030431Z",
     "iopub.status.idle": "2022-02-26T15:29:33.054921Z",
     "shell.execute_reply": "2022-02-26T15:29:33.055471Z",
     "shell.execute_reply.started": "2022-02-26T15:22:42.133423Z"
    },
    "papermill": {
     "duration": 0.07069,
     "end_time": "2022-02-26T15:29:33.055649",
     "exception": false,
     "start_time": "2022-02-26T15:29:32.984959",
     "status": "completed"
    },
    "tags": []
   },
   "outputs": [
    {
     "data": {
      "text/html": [
       "<div>\n",
       "<style scoped>\n",
       "    .dataframe tbody tr th:only-of-type {\n",
       "        vertical-align: middle;\n",
       "    }\n",
       "\n",
       "    .dataframe tbody tr th {\n",
       "        vertical-align: top;\n",
       "    }\n",
       "\n",
       "    .dataframe thead th {\n",
       "        text-align: right;\n",
       "    }\n",
       "</style>\n",
       "<table border=\"1\" class=\"dataframe\">\n",
       "  <thead>\n",
       "    <tr style=\"text-align: right;\">\n",
       "      <th></th>\n",
       "      <th>ID</th>\n",
       "      <th>N_Days</th>\n",
       "      <th>Age</th>\n",
       "      <th>Copper</th>\n",
       "      <th>Alk_Phos</th>\n",
       "      <th>Platelets</th>\n",
       "      <th>Prothrombin</th>\n",
       "      <th>Stage</th>\n",
       "      <th>Bilirubin_modified</th>\n",
       "      <th>normal_Bilirubin</th>\n",
       "      <th>...</th>\n",
       "      <th>Age_bins</th>\n",
       "      <th>Status_CL</th>\n",
       "      <th>Status_D</th>\n",
       "      <th>Drug_Placebo</th>\n",
       "      <th>Sex_M</th>\n",
       "      <th>Ascites_Y</th>\n",
       "      <th>Hepatomegaly_Y</th>\n",
       "      <th>Spiders_Y</th>\n",
       "      <th>Edema_S</th>\n",
       "      <th>Edema_Y</th>\n",
       "    </tr>\n",
       "  </thead>\n",
       "  <tbody>\n",
       "    <tr>\n",
       "      <th>0</th>\n",
       "      <td>7135</td>\n",
       "      <td>1654</td>\n",
       "      <td>19581</td>\n",
       "      <td>84.0</td>\n",
       "      <td>1500.8</td>\n",
       "      <td>293.0</td>\n",
       "      <td>10.2</td>\n",
       "      <td>4.0</td>\n",
       "      <td>26.52</td>\n",
       "      <td>0</td>\n",
       "      <td>...</td>\n",
       "      <td>2</td>\n",
       "      <td>1</td>\n",
       "      <td>0</td>\n",
       "      <td>0</td>\n",
       "      <td>0</td>\n",
       "      <td>0</td>\n",
       "      <td>0</td>\n",
       "      <td>1</td>\n",
       "      <td>0</td>\n",
       "      <td>0</td>\n",
       "    </tr>\n",
       "    <tr>\n",
       "      <th>1</th>\n",
       "      <td>7326</td>\n",
       "      <td>41</td>\n",
       "      <td>22880</td>\n",
       "      <td>4.0</td>\n",
       "      <td>1835.4</td>\n",
       "      <td>308.0</td>\n",
       "      <td>10.8</td>\n",
       "      <td>1.0</td>\n",
       "      <td>26.52</td>\n",
       "      <td>0</td>\n",
       "      <td>...</td>\n",
       "      <td>3</td>\n",
       "      <td>0</td>\n",
       "      <td>0</td>\n",
       "      <td>0</td>\n",
       "      <td>0</td>\n",
       "      <td>0</td>\n",
       "      <td>0</td>\n",
       "      <td>0</td>\n",
       "      <td>0</td>\n",
       "      <td>0</td>\n",
       "    </tr>\n",
       "  </tbody>\n",
       "</table>\n",
       "<p>2 rows × 25 columns</p>\n",
       "</div>"
      ],
      "text/plain": [
       "     ID  N_Days    Age  Copper  Alk_Phos  Platelets  Prothrombin  Stage  \\\n",
       "0  7135    1654  19581    84.0    1500.8      293.0         10.2    4.0   \n",
       "1  7326      41  22880     4.0    1835.4      308.0         10.8    1.0   \n",
       "\n",
       "   Bilirubin_modified  normal_Bilirubin  ...  Age_bins  Status_CL  Status_D  \\\n",
       "0               26.52                 0  ...         2          1         0   \n",
       "1               26.52                 0  ...         3          0         0   \n",
       "\n",
       "   Drug_Placebo  Sex_M  Ascites_Y  Hepatomegaly_Y  Spiders_Y  Edema_S  Edema_Y  \n",
       "0             0      0          0               0          1        0        0  \n",
       "1             0      0          0               0          0        0        0  \n",
       "\n",
       "[2 rows x 25 columns]"
      ]
     },
     "execution_count": 6,
     "metadata": {},
     "output_type": "execute_result"
    }
   ],
   "source": [
    "train_data.head(2)"
   ]
  },
  {
   "cell_type": "code",
   "execution_count": 7,
   "id": "a76140ca",
   "metadata": {
    "execution": {
     "iopub.execute_input": "2022-02-26T15:29:33.156184Z",
     "iopub.status.busy": "2022-02-26T15:29:33.151291Z",
     "iopub.status.idle": "2022-02-26T15:29:33.168505Z",
     "shell.execute_reply": "2022-02-26T15:29:33.167928Z",
     "shell.execute_reply.started": "2022-02-26T15:22:42.160213Z"
    },
    "papermill": {
     "duration": 0.069391,
     "end_time": "2022-02-26T15:29:33.168650",
     "exception": false,
     "start_time": "2022-02-26T15:29:33.099259",
     "status": "completed"
    },
    "tags": []
   },
   "outputs": [
    {
     "data": {
      "text/html": [
       "<div>\n",
       "<style scoped>\n",
       "    .dataframe tbody tr th:only-of-type {\n",
       "        vertical-align: middle;\n",
       "    }\n",
       "\n",
       "    .dataframe tbody tr th {\n",
       "        vertical-align: top;\n",
       "    }\n",
       "\n",
       "    .dataframe thead th {\n",
       "        text-align: right;\n",
       "    }\n",
       "</style>\n",
       "<table border=\"1\" class=\"dataframe\">\n",
       "  <thead>\n",
       "    <tr style=\"text-align: right;\">\n",
       "      <th></th>\n",
       "      <th>ID</th>\n",
       "      <th>N_Days</th>\n",
       "      <th>Age</th>\n",
       "      <th>Copper</th>\n",
       "      <th>Alk_Phos</th>\n",
       "      <th>Platelets</th>\n",
       "      <th>Prothrombin</th>\n",
       "      <th>Bilirubin_modified</th>\n",
       "      <th>normal_Bilirubin</th>\n",
       "      <th>Albumin_modified</th>\n",
       "      <th>...</th>\n",
       "      <th>Age_bins</th>\n",
       "      <th>Status_CL</th>\n",
       "      <th>Status_D</th>\n",
       "      <th>Drug_Placebo</th>\n",
       "      <th>Sex_M</th>\n",
       "      <th>Ascites_Y</th>\n",
       "      <th>Hepatomegaly_Y</th>\n",
       "      <th>Spiders_Y</th>\n",
       "      <th>Edema_S</th>\n",
       "      <th>Edema_Y</th>\n",
       "    </tr>\n",
       "  </thead>\n",
       "  <tbody>\n",
       "    <tr>\n",
       "      <th>0</th>\n",
       "      <td>3870</td>\n",
       "      <td>41</td>\n",
       "      <td>22553</td>\n",
       "      <td>4.0</td>\n",
       "      <td>289.0</td>\n",
       "      <td>169.0</td>\n",
       "      <td>11.6</td>\n",
       "      <td>123.76</td>\n",
       "      <td>0</td>\n",
       "      <td>36.2</td>\n",
       "      <td>...</td>\n",
       "      <td>3</td>\n",
       "      <td>0</td>\n",
       "      <td>0</td>\n",
       "      <td>1</td>\n",
       "      <td>0</td>\n",
       "      <td>0</td>\n",
       "      <td>0</td>\n",
       "      <td>0</td>\n",
       "      <td>0</td>\n",
       "      <td>0</td>\n",
       "    </tr>\n",
       "    <tr>\n",
       "      <th>1</th>\n",
       "      <td>3462</td>\n",
       "      <td>1811</td>\n",
       "      <td>16223</td>\n",
       "      <td>92.0</td>\n",
       "      <td>1748.1</td>\n",
       "      <td>321.0</td>\n",
       "      <td>11.5</td>\n",
       "      <td>26.52</td>\n",
       "      <td>0</td>\n",
       "      <td>28.0</td>\n",
       "      <td>...</td>\n",
       "      <td>1</td>\n",
       "      <td>0</td>\n",
       "      <td>0</td>\n",
       "      <td>0</td>\n",
       "      <td>0</td>\n",
       "      <td>0</td>\n",
       "      <td>1</td>\n",
       "      <td>0</td>\n",
       "      <td>0</td>\n",
       "      <td>0</td>\n",
       "    </tr>\n",
       "  </tbody>\n",
       "</table>\n",
       "<p>2 rows × 24 columns</p>\n",
       "</div>"
      ],
      "text/plain": [
       "     ID  N_Days    Age  Copper  Alk_Phos  Platelets  Prothrombin  \\\n",
       "0  3870      41  22553     4.0     289.0      169.0         11.6   \n",
       "1  3462    1811  16223    92.0    1748.1      321.0         11.5   \n",
       "\n",
       "   Bilirubin_modified  normal_Bilirubin  Albumin_modified  ...  Age_bins  \\\n",
       "0              123.76                 0              36.2  ...         3   \n",
       "1               26.52                 0              28.0  ...         1   \n",
       "\n",
       "   Status_CL  Status_D  Drug_Placebo  Sex_M  Ascites_Y  Hepatomegaly_Y  \\\n",
       "0          0         0             1      0          0               0   \n",
       "1          0         0             0      0          0               1   \n",
       "\n",
       "   Spiders_Y  Edema_S  Edema_Y  \n",
       "0          0        0        0  \n",
       "1          0        0        0  \n",
       "\n",
       "[2 rows x 24 columns]"
      ]
     },
     "execution_count": 7,
     "metadata": {},
     "output_type": "execute_result"
    }
   ],
   "source": [
    "test_data.head(2)"
   ]
  },
  {
   "cell_type": "code",
   "execution_count": 8,
   "id": "5ec040d2",
   "metadata": {
    "execution": {
     "iopub.execute_input": "2022-02-26T15:29:33.260896Z",
     "iopub.status.busy": "2022-02-26T15:29:33.260036Z",
     "iopub.status.idle": "2022-02-26T15:29:33.265174Z",
     "shell.execute_reply": "2022-02-26T15:29:33.265666Z",
     "shell.execute_reply.started": "2022-02-26T15:22:42.185201Z"
    },
    "papermill": {
     "duration": 0.052916,
     "end_time": "2022-02-26T15:29:33.265840",
     "exception": false,
     "start_time": "2022-02-26T15:29:33.212924",
     "status": "completed"
    },
    "tags": []
   },
   "outputs": [
    {
     "data": {
      "text/plain": [
       "((6800, 25), (3200, 24))"
      ]
     },
     "execution_count": 8,
     "metadata": {},
     "output_type": "execute_result"
    }
   ],
   "source": [
    "train_data.shape, test_data.shape"
   ]
  },
  {
   "cell_type": "markdown",
   "id": "22451486",
   "metadata": {
    "papermill": {
     "duration": 0.044214,
     "end_time": "2022-02-26T15:29:33.353735",
     "exception": false,
     "start_time": "2022-02-26T15:29:33.309521",
     "status": "completed"
    },
    "tags": []
   },
   "source": [
    "<a id=\"3\"></a>\n",
    "# <p style=\"background-color:#B721FF;font-family:newtimeroman;color:#444160;font-size:150%;text-align:center;border-radius:20px 60px;\">CREATE FOLDS</p>\n",
    "<p style=\"font-family:newtimeroman;font-size:120%;color:#444160;\">There are many ways to create folds. \n",
    "<br> 1.You can either create folds from before hand by creating a new columns of folds and use it everywhere to make your validation predictions and OOF predictions. or,\n",
    "<br> 2. You can call each time KFold or Stratified KFold and make the splits while training a model.\n",
    "<br> If these things are not clear don't worry we will cover these things in orderly way.<br>\n",
    "I will be following method one, but there is no much difference between the two methods only difference is in the time of making split.\n",
    "<br>\n",
    "Note:- Just that in case1 you don't have to care about splits everytime, while in case2 you have to make exactly same split each time you train a model i.e. you have to use same random state while splitting.\n",
    "<br>\n",
    "    <b> Let's first see how target label is distributed </b></p>"
   ]
  },
  {
   "cell_type": "code",
   "execution_count": 9,
   "id": "56a52af0",
   "metadata": {
    "execution": {
     "iopub.execute_input": "2022-02-26T15:29:33.448139Z",
     "iopub.status.busy": "2022-02-26T15:29:33.447274Z",
     "iopub.status.idle": "2022-02-26T15:29:33.456321Z",
     "shell.execute_reply": "2022-02-26T15:29:33.456757Z",
     "shell.execute_reply.started": "2022-02-26T15:22:42.193380Z"
    },
    "papermill": {
     "duration": 0.057505,
     "end_time": "2022-02-26T15:29:33.456920",
     "exception": false,
     "start_time": "2022-02-26T15:29:33.399415",
     "status": "completed"
    },
    "tags": []
   },
   "outputs": [
    {
     "data": {
      "text/plain": [
       "4.0    3506\n",
       "2.0    1507\n",
       "3.0    1322\n",
       "1.0     465\n",
       "Name: Stage, dtype: int64"
      ]
     },
     "execution_count": 9,
     "metadata": {},
     "output_type": "execute_result"
    }
   ],
   "source": [
    "train_data['Stage'].value_counts()"
   ]
  },
  {
   "cell_type": "markdown",
   "id": "85299653",
   "metadata": {
    "papermill": {
     "duration": 0.029739,
     "end_time": "2022-02-26T15:29:33.515947",
     "exception": false,
     "start_time": "2022-02-26T15:29:33.486208",
     "status": "completed"
    },
    "tags": []
   },
   "source": [
    "<p style=\"font-family:newtimeroman;font-size:120%;color:#444160;\">We see it is unbalanced class i.e. no of data points in class survived and no of data points in class not survived are not same. So we can't just use KFold split, we have to use stratified KFold split. This is because Stratified KFold ensures that each fold has same proportion of classes. In case of Balanced class we don't have to worry about this and can use KFold there. \n",
    "<br>\n",
    "Hence Stratified KFold is an improved version of KFold split so be it balance or unbalance class it is advised to use Stratified KFold.\n",
    "<br> To show what I am saying we will do both KFold split as well as Stratified KFold split.</p>\n",
    "<a id=\"3.1\"></a>\n",
    "<p style=\"background-color:#B721FF;font-family:newtimeroman;color:#444160;font-size:150%;text-align:center;border-radius:20px 60px;\">KFOLD</p>\n"
   ]
  },
  {
   "cell_type": "code",
   "execution_count": 10,
   "id": "d3a03486",
   "metadata": {
    "execution": {
     "iopub.execute_input": "2022-02-26T15:29:33.577694Z",
     "iopub.status.busy": "2022-02-26T15:29:33.577159Z",
     "iopub.status.idle": "2022-02-26T15:29:33.580908Z",
     "shell.execute_reply": "2022-02-26T15:29:33.581365Z",
     "shell.execute_reply.started": "2022-02-26T15:22:42.209297Z"
    },
    "papermill": {
     "duration": 0.03639,
     "end_time": "2022-02-26T15:29:33.581497",
     "exception": false,
     "start_time": "2022-02-26T15:29:33.545107",
     "status": "completed"
    },
    "tags": []
   },
   "outputs": [],
   "source": [
    "kf = KFold(n_splits=10, shuffle=True, random_state=21) # we will create 10 folds since dataset is not that large, if we had huge dataset we could have made 10 folds. "
   ]
  },
  {
   "cell_type": "code",
   "execution_count": 11,
   "id": "60729443",
   "metadata": {
    "execution": {
     "iopub.execute_input": "2022-02-26T15:29:33.647003Z",
     "iopub.status.busy": "2022-02-26T15:29:33.646510Z",
     "iopub.status.idle": "2022-02-26T15:29:33.655316Z",
     "shell.execute_reply": "2022-02-26T15:29:33.655690Z",
     "shell.execute_reply.started": "2022-02-26T15:22:42.220036Z"
    },
    "papermill": {
     "duration": 0.045819,
     "end_time": "2022-02-26T15:29:33.655848",
     "exception": false,
     "start_time": "2022-02-26T15:29:33.610029",
     "status": "completed"
    },
    "tags": []
   },
   "outputs": [],
   "source": [
    "for fold, (train_indices, valid_indices) in enumerate(kf.split(train_data)):\n",
    "    train_data.loc[valid_indices,'fold'] = fold # this randomly assigns one of the values [0,1,2,3,4] to each row :- Thus it divides training set in 5 parts"
   ]
  },
  {
   "cell_type": "code",
   "execution_count": 12,
   "id": "e6ae57cd",
   "metadata": {
    "execution": {
     "iopub.execute_input": "2022-02-26T15:29:33.719056Z",
     "iopub.status.busy": "2022-02-26T15:29:33.718532Z",
     "iopub.status.idle": "2022-02-26T15:29:33.739501Z",
     "shell.execute_reply": "2022-02-26T15:29:33.739978Z",
     "shell.execute_reply.started": "2022-02-26T15:22:42.245913Z"
    },
    "papermill": {
     "duration": 0.054947,
     "end_time": "2022-02-26T15:29:33.740135",
     "exception": false,
     "start_time": "2022-02-26T15:29:33.685188",
     "status": "completed"
    },
    "tags": []
   },
   "outputs": [
    {
     "data": {
      "text/html": [
       "<div>\n",
       "<style scoped>\n",
       "    .dataframe tbody tr th:only-of-type {\n",
       "        vertical-align: middle;\n",
       "    }\n",
       "\n",
       "    .dataframe tbody tr th {\n",
       "        vertical-align: top;\n",
       "    }\n",
       "\n",
       "    .dataframe thead th {\n",
       "        text-align: right;\n",
       "    }\n",
       "</style>\n",
       "<table border=\"1\" class=\"dataframe\">\n",
       "  <thead>\n",
       "    <tr style=\"text-align: right;\">\n",
       "      <th></th>\n",
       "      <th>ID</th>\n",
       "      <th>N_Days</th>\n",
       "      <th>Age</th>\n",
       "      <th>Copper</th>\n",
       "      <th>Alk_Phos</th>\n",
       "      <th>Platelets</th>\n",
       "      <th>Prothrombin</th>\n",
       "      <th>Stage</th>\n",
       "      <th>Bilirubin_modified</th>\n",
       "      <th>normal_Bilirubin</th>\n",
       "      <th>...</th>\n",
       "      <th>Status_CL</th>\n",
       "      <th>Status_D</th>\n",
       "      <th>Drug_Placebo</th>\n",
       "      <th>Sex_M</th>\n",
       "      <th>Ascites_Y</th>\n",
       "      <th>Hepatomegaly_Y</th>\n",
       "      <th>Spiders_Y</th>\n",
       "      <th>Edema_S</th>\n",
       "      <th>Edema_Y</th>\n",
       "      <th>fold</th>\n",
       "    </tr>\n",
       "  </thead>\n",
       "  <tbody>\n",
       "    <tr>\n",
       "      <th>0</th>\n",
       "      <td>7135</td>\n",
       "      <td>1654</td>\n",
       "      <td>19581</td>\n",
       "      <td>84.0</td>\n",
       "      <td>1500.8</td>\n",
       "      <td>293.0</td>\n",
       "      <td>10.2</td>\n",
       "      <td>4.0</td>\n",
       "      <td>26.52</td>\n",
       "      <td>0</td>\n",
       "      <td>...</td>\n",
       "      <td>1</td>\n",
       "      <td>0</td>\n",
       "      <td>0</td>\n",
       "      <td>0</td>\n",
       "      <td>0</td>\n",
       "      <td>0</td>\n",
       "      <td>1</td>\n",
       "      <td>0</td>\n",
       "      <td>0</td>\n",
       "      <td>0.0</td>\n",
       "    </tr>\n",
       "    <tr>\n",
       "      <th>1</th>\n",
       "      <td>7326</td>\n",
       "      <td>41</td>\n",
       "      <td>22880</td>\n",
       "      <td>4.0</td>\n",
       "      <td>1835.4</td>\n",
       "      <td>308.0</td>\n",
       "      <td>10.8</td>\n",
       "      <td>1.0</td>\n",
       "      <td>26.52</td>\n",
       "      <td>0</td>\n",
       "      <td>...</td>\n",
       "      <td>0</td>\n",
       "      <td>0</td>\n",
       "      <td>0</td>\n",
       "      <td>0</td>\n",
       "      <td>0</td>\n",
       "      <td>0</td>\n",
       "      <td>0</td>\n",
       "      <td>0</td>\n",
       "      <td>0</td>\n",
       "      <td>2.0</td>\n",
       "    </tr>\n",
       "  </tbody>\n",
       "</table>\n",
       "<p>2 rows × 26 columns</p>\n",
       "</div>"
      ],
      "text/plain": [
       "     ID  N_Days    Age  Copper  Alk_Phos  Platelets  Prothrombin  Stage  \\\n",
       "0  7135    1654  19581    84.0    1500.8      293.0         10.2    4.0   \n",
       "1  7326      41  22880     4.0    1835.4      308.0         10.8    1.0   \n",
       "\n",
       "   Bilirubin_modified  normal_Bilirubin  ...  Status_CL  Status_D  \\\n",
       "0               26.52                 0  ...          1         0   \n",
       "1               26.52                 0  ...          0         0   \n",
       "\n",
       "   Drug_Placebo  Sex_M  Ascites_Y  Hepatomegaly_Y  Spiders_Y  Edema_S  \\\n",
       "0             0      0          0               0          1        0   \n",
       "1             0      0          0               0          0        0   \n",
       "\n",
       "   Edema_Y  fold  \n",
       "0        0   0.0  \n",
       "1        0   2.0  \n",
       "\n",
       "[2 rows x 26 columns]"
      ]
     },
     "execution_count": 12,
     "metadata": {},
     "output_type": "execute_result"
    }
   ],
   "source": [
    "train_data.head(2) # fold column contains float type"
   ]
  },
  {
   "cell_type": "code",
   "execution_count": 13,
   "id": "dde8fd87",
   "metadata": {
    "execution": {
     "iopub.execute_input": "2022-02-26T15:29:33.802744Z",
     "iopub.status.busy": "2022-02-26T15:29:33.802133Z",
     "iopub.status.idle": "2022-02-26T15:29:33.807058Z",
     "shell.execute_reply": "2022-02-26T15:29:33.807506Z",
     "shell.execute_reply.started": "2022-02-26T15:22:42.276893Z"
    },
    "papermill": {
     "duration": 0.037386,
     "end_time": "2022-02-26T15:29:33.807658",
     "exception": false,
     "start_time": "2022-02-26T15:29:33.770272",
     "status": "completed"
    },
    "tags": []
   },
   "outputs": [],
   "source": [
    "train_data.fold = train_data.fold.astype(int) # convert fold column to int type"
   ]
  },
  {
   "cell_type": "code",
   "execution_count": 14,
   "id": "6c89d6cb",
   "metadata": {
    "execution": {
     "iopub.execute_input": "2022-02-26T15:29:33.870526Z",
     "iopub.status.busy": "2022-02-26T15:29:33.870008Z",
     "iopub.status.idle": "2022-02-26T15:29:33.891091Z",
     "shell.execute_reply": "2022-02-26T15:29:33.891566Z",
     "shell.execute_reply.started": "2022-02-26T15:22:42.284585Z"
    },
    "papermill": {
     "duration": 0.054278,
     "end_time": "2022-02-26T15:29:33.891716",
     "exception": false,
     "start_time": "2022-02-26T15:29:33.837438",
     "status": "completed"
    },
    "tags": []
   },
   "outputs": [
    {
     "data": {
      "text/html": [
       "<div>\n",
       "<style scoped>\n",
       "    .dataframe tbody tr th:only-of-type {\n",
       "        vertical-align: middle;\n",
       "    }\n",
       "\n",
       "    .dataframe tbody tr th {\n",
       "        vertical-align: top;\n",
       "    }\n",
       "\n",
       "    .dataframe thead th {\n",
       "        text-align: right;\n",
       "    }\n",
       "</style>\n",
       "<table border=\"1\" class=\"dataframe\">\n",
       "  <thead>\n",
       "    <tr style=\"text-align: right;\">\n",
       "      <th></th>\n",
       "      <th>ID</th>\n",
       "      <th>N_Days</th>\n",
       "      <th>Age</th>\n",
       "      <th>Copper</th>\n",
       "      <th>Alk_Phos</th>\n",
       "      <th>Platelets</th>\n",
       "      <th>Prothrombin</th>\n",
       "      <th>Stage</th>\n",
       "      <th>Bilirubin_modified</th>\n",
       "      <th>normal_Bilirubin</th>\n",
       "      <th>...</th>\n",
       "      <th>Status_CL</th>\n",
       "      <th>Status_D</th>\n",
       "      <th>Drug_Placebo</th>\n",
       "      <th>Sex_M</th>\n",
       "      <th>Ascites_Y</th>\n",
       "      <th>Hepatomegaly_Y</th>\n",
       "      <th>Spiders_Y</th>\n",
       "      <th>Edema_S</th>\n",
       "      <th>Edema_Y</th>\n",
       "      <th>fold</th>\n",
       "    </tr>\n",
       "  </thead>\n",
       "  <tbody>\n",
       "    <tr>\n",
       "      <th>0</th>\n",
       "      <td>7135</td>\n",
       "      <td>1654</td>\n",
       "      <td>19581</td>\n",
       "      <td>84.0</td>\n",
       "      <td>1500.8</td>\n",
       "      <td>293.0</td>\n",
       "      <td>10.2</td>\n",
       "      <td>4.0</td>\n",
       "      <td>26.52</td>\n",
       "      <td>0</td>\n",
       "      <td>...</td>\n",
       "      <td>1</td>\n",
       "      <td>0</td>\n",
       "      <td>0</td>\n",
       "      <td>0</td>\n",
       "      <td>0</td>\n",
       "      <td>0</td>\n",
       "      <td>1</td>\n",
       "      <td>0</td>\n",
       "      <td>0</td>\n",
       "      <td>0</td>\n",
       "    </tr>\n",
       "    <tr>\n",
       "      <th>1</th>\n",
       "      <td>7326</td>\n",
       "      <td>41</td>\n",
       "      <td>22880</td>\n",
       "      <td>4.0</td>\n",
       "      <td>1835.4</td>\n",
       "      <td>308.0</td>\n",
       "      <td>10.8</td>\n",
       "      <td>1.0</td>\n",
       "      <td>26.52</td>\n",
       "      <td>0</td>\n",
       "      <td>...</td>\n",
       "      <td>0</td>\n",
       "      <td>0</td>\n",
       "      <td>0</td>\n",
       "      <td>0</td>\n",
       "      <td>0</td>\n",
       "      <td>0</td>\n",
       "      <td>0</td>\n",
       "      <td>0</td>\n",
       "      <td>0</td>\n",
       "      <td>2</td>\n",
       "    </tr>\n",
       "  </tbody>\n",
       "</table>\n",
       "<p>2 rows × 26 columns</p>\n",
       "</div>"
      ],
      "text/plain": [
       "     ID  N_Days    Age  Copper  Alk_Phos  Platelets  Prothrombin  Stage  \\\n",
       "0  7135    1654  19581    84.0    1500.8      293.0         10.2    4.0   \n",
       "1  7326      41  22880     4.0    1835.4      308.0         10.8    1.0   \n",
       "\n",
       "   Bilirubin_modified  normal_Bilirubin  ...  Status_CL  Status_D  \\\n",
       "0               26.52                 0  ...          1         0   \n",
       "1               26.52                 0  ...          0         0   \n",
       "\n",
       "   Drug_Placebo  Sex_M  Ascites_Y  Hepatomegaly_Y  Spiders_Y  Edema_S  \\\n",
       "0             0      0          0               0          1        0   \n",
       "1             0      0          0               0          0        0   \n",
       "\n",
       "   Edema_Y  fold  \n",
       "0        0     0  \n",
       "1        0     2  \n",
       "\n",
       "[2 rows x 26 columns]"
      ]
     },
     "execution_count": 14,
     "metadata": {},
     "output_type": "execute_result"
    }
   ],
   "source": [
    "train_data.head(2)"
   ]
  },
  {
   "cell_type": "code",
   "execution_count": 15,
   "id": "6568e3f3",
   "metadata": {
    "execution": {
     "iopub.execute_input": "2022-02-26T15:29:33.956358Z",
     "iopub.status.busy": "2022-02-26T15:29:33.955827Z",
     "iopub.status.idle": "2022-02-26T15:29:33.962586Z",
     "shell.execute_reply": "2022-02-26T15:29:33.962993Z",
     "shell.execute_reply.started": "2022-02-26T15:22:42.314753Z"
    },
    "papermill": {
     "duration": 0.040121,
     "end_time": "2022-02-26T15:29:33.963140",
     "exception": false,
     "start_time": "2022-02-26T15:29:33.923019",
     "status": "completed"
    },
    "tags": []
   },
   "outputs": [
    {
     "data": {
      "text/plain": [
       "{1.0, 2.0, 3.0, 4.0}"
      ]
     },
     "execution_count": 15,
     "metadata": {},
     "output_type": "execute_result"
    }
   ],
   "source": [
    "set(train_data.Stage)"
   ]
  },
  {
   "cell_type": "code",
   "execution_count": 16,
   "id": "131eddc3",
   "metadata": {
    "execution": {
     "iopub.execute_input": "2022-02-26T15:29:34.030293Z",
     "iopub.status.busy": "2022-02-26T15:29:34.029747Z",
     "iopub.status.idle": "2022-02-26T15:29:34.042722Z",
     "shell.execute_reply": "2022-02-26T15:29:34.043236Z",
     "shell.execute_reply.started": "2022-02-26T15:22:42.327452Z"
    },
    "papermill": {
     "duration": 0.050583,
     "end_time": "2022-02-26T15:29:34.043424",
     "exception": false,
     "start_time": "2022-02-26T15:29:33.992841",
     "status": "completed"
    },
    "tags": []
   },
   "outputs": [
    {
     "name": "stdout",
     "output_type": "stream",
     "text": [
      "For fold 0 class ratio is: (0.5441176470588235, 0.2, 0.19264705882352942, 0.06323529411764706)\n",
      "For fold 1 class ratio is: (0.5205882352941177, 0.21176470588235294, 0.20147058823529412, 0.0661764705882353)\n",
      "For fold 2 class ratio is: (0.5205882352941177, 0.21764705882352942, 0.19117647058823528, 0.07058823529411765)\n",
      "For fold 3 class ratio is: (0.5470588235294118, 0.20441176470588235, 0.17794117647058824, 0.07058823529411765)\n",
      "For fold 4 class ratio is: (0.5029411764705882, 0.23823529411764705, 0.20147058823529412, 0.057352941176470586)\n",
      "For fold 5 class ratio is: (0.4970588235294118, 0.22941176470588234, 0.19558823529411765, 0.07794117647058824)\n",
      "For fold 6 class ratio is: (0.5220588235294118, 0.22205882352941175, 0.19411764705882353, 0.061764705882352944)\n",
      "For fold 7 class ratio is: (0.4823529411764706, 0.2323529411764706, 0.2088235294117647, 0.07647058823529412)\n",
      "For fold 8 class ratio is: (0.5029411764705882, 0.24411764705882352, 0.18529411764705883, 0.06764705882352941)\n",
      "For fold 9 class ratio is: (0.5161764705882353, 0.2338235294117647, 0.17794117647058824, 0.07205882352941176)\n"
     ]
    }
   ],
   "source": [
    "for i in range(10):  \n",
    "    t = train_data.loc[train_data['fold']==i,'Stage'].value_counts()\n",
    "    t=(t/t.sum()).tolist()\n",
    "    print(f\"For fold {i} class ratio is: {t[0],t[1],t[2],t[3]}\")  # we now see each class has same proportions"
   ]
  },
  {
   "cell_type": "markdown",
   "id": "9a938612",
   "metadata": {
    "papermill": {
     "duration": 0.030574,
     "end_time": "2022-02-26T15:29:34.104882",
     "exception": false,
     "start_time": "2022-02-26T15:29:34.074308",
     "status": "completed"
    },
    "tags": []
   },
   "source": [
    "<p style=\"font-family:newtimeroman;font-size:120%;color:#444160;\">We see ratio of classes in each fold are quite varying, this may make our model overfit. So next we will do Stratified KFold and see the difference.</p>\n",
    "<a id=\"3.2\"></a>\n",
    "<p style=\"background-color:#B721FF;font-family:newtimeroman;color:#444160;font-size:150%;text-align:center;border-radius:20px 60px;\">STRATIFIED-KFOLD</p>"
   ]
  },
  {
   "cell_type": "code",
   "execution_count": 17,
   "id": "e0c6a58b",
   "metadata": {
    "execution": {
     "iopub.execute_input": "2022-02-26T15:29:34.168483Z",
     "iopub.status.busy": "2022-02-26T15:29:34.167963Z",
     "iopub.status.idle": "2022-02-26T15:29:39.561925Z",
     "shell.execute_reply": "2022-02-26T15:29:39.561395Z",
     "shell.execute_reply.started": "2022-02-26T15:22:42.351796Z"
    },
    "papermill": {
     "duration": 5.427025,
     "end_time": "2022-02-26T15:29:39.562040",
     "exception": false,
     "start_time": "2022-02-26T15:29:34.135015",
     "status": "completed"
    },
    "tags": []
   },
   "outputs": [
    {
     "name": "stdout",
     "output_type": "stream",
     "text": [
      "4\n"
     ]
    }
   ],
   "source": [
    "import os\n",
    "import random\n",
    "import tensorflow as tf\n",
    "def seed_everything(seed=42):\n",
    "    os.environ['PYTHONHASHSEED'] = str(seed)\n",
    "    np.random.seed(seed)\n",
    "    random.seed(seed)\n",
    "    tf.random.set_seed(seed)\n",
    "    #torch.manual_seed(seed)\n",
    "seed_everything(17)\n",
    "print(np.random.randint(3,10)) # it should return 4\n",
    "\n",
    "skf = StratifiedKFold(n_splits=10, shuffle=True, random_state=21)"
   ]
  },
  {
   "cell_type": "code",
   "execution_count": 18,
   "id": "27556ceb",
   "metadata": {
    "execution": {
     "iopub.execute_input": "2022-02-26T15:29:39.631262Z",
     "iopub.status.busy": "2022-02-26T15:29:39.630632Z",
     "iopub.status.idle": "2022-02-26T15:29:39.648256Z",
     "shell.execute_reply": "2022-02-26T15:29:39.648636Z",
     "shell.execute_reply.started": "2022-02-26T15:22:48.367011Z"
    },
    "papermill": {
     "duration": 0.055733,
     "end_time": "2022-02-26T15:29:39.648783",
     "exception": false,
     "start_time": "2022-02-26T15:29:39.593050",
     "status": "completed"
    },
    "tags": []
   },
   "outputs": [],
   "source": [
    "for fold, (train_indices, valid_indices) in enumerate(skf.split(train_data,train_data.Stage)):\n",
    "    #print(fold)\n",
    "    train_data.loc[valid_indices,'fold'] = fold\n",
    "train_data.fold = train_data.fold.astype(int) # convert fold column to int types\n"
   ]
  },
  {
   "cell_type": "code",
   "execution_count": 19,
   "id": "ee9adfaf",
   "metadata": {
    "execution": {
     "iopub.execute_input": "2022-02-26T15:29:39.719082Z",
     "iopub.status.busy": "2022-02-26T15:29:39.718579Z",
     "iopub.status.idle": "2022-02-26T15:29:39.734301Z",
     "shell.execute_reply": "2022-02-26T15:29:39.733793Z",
     "shell.execute_reply.started": "2022-02-26T15:22:48.393837Z"
    },
    "papermill": {
     "duration": 0.055016,
     "end_time": "2022-02-26T15:29:39.734422",
     "exception": false,
     "start_time": "2022-02-26T15:29:39.679406",
     "status": "completed"
    },
    "tags": []
   },
   "outputs": [
    {
     "name": "stdout",
     "output_type": "stream",
     "text": [
      "For fold 0 class ratio is: (0.5161764705882353, 0.22058823529411764, 0.19411764705882353, 0.06911764705882353)\n",
      "For fold 1 class ratio is: (0.5161764705882353, 0.22058823529411764, 0.19558823529411765, 0.06764705882352941)\n",
      "For fold 2 class ratio is: (0.5161764705882353, 0.22058823529411764, 0.19558823529411765, 0.06764705882352941)\n",
      "For fold 3 class ratio is: (0.5161764705882353, 0.22205882352941175, 0.19411764705882353, 0.06764705882352941)\n",
      "For fold 4 class ratio is: (0.5161764705882353, 0.22205882352941175, 0.19411764705882353, 0.06764705882352941)\n",
      "For fold 5 class ratio is: (0.5161764705882353, 0.22205882352941175, 0.19411764705882353, 0.06764705882352941)\n",
      "For fold 6 class ratio is: (0.5147058823529411, 0.22205882352941175, 0.19411764705882353, 0.06911764705882353)\n",
      "For fold 7 class ratio is: (0.5147058823529411, 0.22205882352941175, 0.19411764705882353, 0.06911764705882353)\n",
      "For fold 8 class ratio is: (0.5147058823529411, 0.22205882352941175, 0.19411764705882353, 0.06911764705882353)\n",
      "For fold 9 class ratio is: (0.5147058823529411, 0.22205882352941175, 0.19411764705882353, 0.06911764705882353)\n"
     ]
    }
   ],
   "source": [
    "for i in range(10):  \n",
    "    t = train_data.loc[train_data['fold']==i,'Stage'].value_counts()\n",
    "    t=(t/t.sum()).tolist()\n",
    "    print(f\"For fold {i} class ratio is: {t[0],t[1],t[2],t[3]}\")  # we now see each class has same proportions"
   ]
  },
  {
   "cell_type": "markdown",
   "id": "224f8816",
   "metadata": {
    "papermill": {
     "duration": 0.031498,
     "end_time": "2022-02-26T15:29:39.798371",
     "exception": false,
     "start_time": "2022-02-26T15:29:39.766873",
     "status": "completed"
    },
    "tags": []
   },
   "source": [
    "<p style=\"font-family:newtimeroman;font-size:120%;color:#444160;\">Now the ratio of labels in each fold are quite stable as expected.</p>"
   ]
  },
  {
   "cell_type": "code",
   "execution_count": 20,
   "id": "9ad3e823",
   "metadata": {
    "execution": {
     "iopub.execute_input": "2022-02-26T15:29:39.869670Z",
     "iopub.status.busy": "2022-02-26T15:29:39.868919Z",
     "iopub.status.idle": "2022-02-26T15:29:39.932043Z",
     "shell.execute_reply": "2022-02-26T15:29:39.932594Z",
     "shell.execute_reply.started": "2022-02-26T15:22:48.424420Z"
    },
    "papermill": {
     "duration": 0.102809,
     "end_time": "2022-02-26T15:29:39.932779",
     "exception": false,
     "start_time": "2022-02-26T15:29:39.829970",
     "status": "completed"
    },
    "tags": []
   },
   "outputs": [],
   "source": [
    "train_data.to_csv('LD_Folds.csv',index=False)"
   ]
  },
  {
   "cell_type": "markdown",
   "id": "94943ee4",
   "metadata": {
    "papermill": {
     "duration": 0.050099,
     "end_time": "2022-02-26T15:29:40.032058",
     "exception": false,
     "start_time": "2022-02-26T15:29:39.981959",
     "status": "completed"
    },
    "tags": []
   },
   "source": [
    "<p style=\"background-color:#B721FF;font-family:newtimeroman;color:#444160;font-size:150%;text-align:center;border-radius:20px 60px;\">Important features</p>"
   ]
  },
  {
   "cell_type": "code",
   "execution_count": 21,
   "id": "fd223da5",
   "metadata": {
    "execution": {
     "iopub.execute_input": "2022-02-26T15:29:40.140070Z",
     "iopub.status.busy": "2022-02-26T15:29:40.139270Z",
     "iopub.status.idle": "2022-02-26T15:29:40.143046Z",
     "shell.execute_reply": "2022-02-26T15:29:40.142372Z",
     "shell.execute_reply.started": "2022-02-26T15:22:48.542605Z"
    },
    "papermill": {
     "duration": 0.062908,
     "end_time": "2022-02-26T15:29:40.143183",
     "exception": false,
     "start_time": "2022-02-26T15:29:40.080275",
     "status": "completed"
    },
    "tags": []
   },
   "outputs": [
    {
     "data": {
      "text/plain": [
       "23"
      ]
     },
     "execution_count": 21,
     "metadata": {},
     "output_type": "execute_result"
    }
   ],
   "source": [
    "useful_featurs = test_data.drop('ID',axis=1).columns.tolist()\n",
    "my_folds = train_data.copy()\n",
    "test = test_data.copy()\n",
    "len(useful_features)"
   ]
  },
  {
   "cell_type": "code",
   "execution_count": 22,
   "id": "b1e6a8d4",
   "metadata": {
    "execution": {
     "iopub.execute_input": "2022-02-26T15:29:40.245628Z",
     "iopub.status.busy": "2022-02-26T15:29:40.244738Z",
     "iopub.status.idle": "2022-02-26T15:29:40.247380Z",
     "shell.execute_reply": "2022-02-26T15:29:40.246771Z",
     "shell.execute_reply.started": "2022-02-26T15:22:48.557023Z"
    },
    "papermill": {
     "duration": 0.055848,
     "end_time": "2022-02-26T15:29:40.247517",
     "exception": false,
     "start_time": "2022-02-26T15:29:40.191669",
     "status": "completed"
    },
    "tags": []
   },
   "outputs": [],
   "source": [
    "# meta data\n",
    "comp_name = 'liver_disease'\n",
    "target_name = 'Stage'\n",
    "id_name = 'ID'"
   ]
  },
  {
   "cell_type": "code",
   "execution_count": 23,
   "id": "119d880d",
   "metadata": {
    "execution": {
     "iopub.execute_input": "2022-02-26T15:29:40.349335Z",
     "iopub.status.busy": "2022-02-26T15:29:40.348446Z",
     "iopub.status.idle": "2022-02-26T15:29:48.128741Z",
     "shell.execute_reply": "2022-02-26T15:29:48.129326Z",
     "shell.execute_reply.started": "2022-02-26T15:22:48.570057Z"
    },
    "papermill": {
     "duration": 7.833158,
     "end_time": "2022-02-26T15:29:48.129502",
     "exception": false,
     "start_time": "2022-02-26T15:29:40.296344",
     "status": "completed"
    },
    "tags": []
   },
   "outputs": [
    {
     "name": "stdout",
     "output_type": "stream",
     "text": [
      "score:- \n",
      "[0.5088235294117647, 0.5161764705882353, 0.5161764705882353, 0.5161764705882353, 0.5161764705882353, 0.5161764705882353, 0.49117647058823527, 0.5147058823529411, 0.5147058823529411, 0.5029411764705882]\n",
      "score mean and std:- \n",
      "0.5113235294117647 0.007893374647246869\n"
     ]
    }
   ],
   "source": [
    "scores =[]\n",
    "for fold in range(10):\n",
    "    xtrain = my_folds[my_folds.fold != fold].reset_index(drop=True)\n",
    "    xvalid = my_folds[my_folds.fold == fold].reset_index(drop=True)\n",
    "    xtest = test[useful_features].copy()\n",
    "    \n",
    "    ytrain = xtrain[target_name]\n",
    "    yvalid = xvalid[target_name]\n",
    "    \n",
    "    xtrain = xtrain[useful_features]\n",
    "    xvalid = xvalid[useful_features]\n",
    "    \n",
    "    ## preprocess\n",
    "    si = SimpleImputer(strategy='median')\n",
    "    xtrain = si.fit_transform(xtrain)\n",
    "    xvalid = si.transform(xvalid)\n",
    "    xtest = si.transform(xtest)\n",
    "\n",
    "    # scale\n",
    "    ss = MinMaxScaler()\n",
    "    xtrain = ss.fit_transform(xtrain)\n",
    "    xvalid = ss.transform(xvalid)\n",
    "    xtest = ss.transform(xtest)\n",
    "\n",
    "#     xtrain = pd.DataFrame(xtrain, columns=useful_features)\n",
    "#     xvalid = pd.DataFrame(xvalid, columns=useful_features)\n",
    "#     xtest = pd.DataFrame(xtest, columns=useful_features)\n",
    "    \n",
    "    \n",
    "    \n",
    "#     for col in useful_features:\n",
    "#         xtrain[col] = np.log1p(xtrain[col])\n",
    "#         xvalid[col] = np.log1p(xvalid[col])\n",
    "#         xtest[col] = np.log1p(xtest[col])\n",
    "        \n",
    "    model = LGBMClassifier(objective=\"multiclass\",random_state=211 ) #, device_type='gpu')\n",
    "    model.fit(xtrain, ytrain,\n",
    "            eval_set=[(xvalid, yvalid)],\n",
    "            eval_metric=\"auc_mu\",\n",
    "            early_stopping_rounds=500,\n",
    "            verbose=0\n",
    "     )\n",
    "    valid_preds = model.predict(xvalid)\n",
    "    test_preds = model.predict(xtest)\n",
    "    \n",
    "    c = [None, 'micro', 'macro', 'weighted']\n",
    "    # 0.1737115463043224 0.29110373277445856\n",
    "    # 0.5113235294117647 0.007893374647246869\n",
    "    # 0.1737115463043224 0.006992213763111059\n",
    "    # 0.35301949303162244 0.004824478179229641\n",
    "    score= f1_score(yvalid, valid_preds,average= c[1] )\n",
    "    #score = accuracy_score(yvalid, valid_preds)\n",
    "    scores.append(score)\n",
    "    \n",
    "print(\"score:- \")\n",
    "print(scores)\n",
    "print(\"score mean and std:- \")\n",
    "print(np.mean(scores), np.std(scores))"
   ]
  },
  {
   "cell_type": "code",
   "execution_count": 24,
   "id": "d193f5a1",
   "metadata": {
    "execution": {
     "iopub.execute_input": "2022-02-26T15:29:48.233107Z",
     "iopub.status.busy": "2022-02-26T15:29:48.232297Z",
     "iopub.status.idle": "2022-02-26T15:29:48.237487Z",
     "shell.execute_reply": "2022-02-26T15:29:48.236920Z",
     "shell.execute_reply.started": "2022-02-26T15:22:55.818613Z"
    },
    "papermill": {
     "duration": 0.058099,
     "end_time": "2022-02-26T15:29:48.237631",
     "exception": false,
     "start_time": "2022-02-26T15:29:48.179532",
     "status": "completed"
    },
    "tags": []
   },
   "outputs": [
    {
     "data": {
      "text/plain": [
       "(array([752, 765, 617, 656, 834, 617, 590,   0, 922,   2,   0, 546,   0,\n",
       "         10,  22, 103,  70,  35,  33,  63,  33,  38,  12], dtype=int32),\n",
       " 23)"
      ]
     },
     "execution_count": 24,
     "metadata": {},
     "output_type": "execute_result"
    }
   ],
   "source": [
    "model.feature_importances_, len(model.feature_importances_) # this is equal to useful features"
   ]
  },
  {
   "cell_type": "code",
   "execution_count": 25,
   "id": "e9400aac",
   "metadata": {
    "execution": {
     "iopub.execute_input": "2022-02-26T15:29:48.341385Z",
     "iopub.status.busy": "2022-02-26T15:29:48.340667Z",
     "iopub.status.idle": "2022-02-26T15:29:48.344936Z",
     "shell.execute_reply": "2022-02-26T15:29:48.345488Z",
     "shell.execute_reply.started": "2022-02-26T15:22:55.833199Z"
    },
    "papermill": {
     "duration": 0.058969,
     "end_time": "2022-02-26T15:29:48.345677",
     "exception": false,
     "start_time": "2022-02-26T15:29:48.286708",
     "status": "completed"
    },
    "tags": []
   },
   "outputs": [
    {
     "data": {
      "text/plain": [
       "[(922, 'Albumin_modified'),\n",
       " (834, 'Platelets'),\n",
       " (765, 'Age'),\n",
       " (752, 'N_Days'),\n",
       " (656, 'Alk_Phos'),\n",
       " (617, 'Copper'),\n",
       " (617, 'Prothrombin'),\n",
       " (590, 'Bilirubin_modified'),\n",
       " (546, 'SGOT_modified'),\n",
       " (103, 'Status_D'),\n",
       " (70, 'Drug_Placebo'),\n",
       " (63, 'Hepatomegaly_Y'),\n",
       " (38, 'Edema_S'),\n",
       " (35, 'Sex_M'),\n",
       " (33, 'Ascites_Y'),\n",
       " (33, 'Spiders_Y'),\n",
       " (22, 'Status_CL'),\n",
       " (12, 'Edema_Y'),\n",
       " (10, 'Age_bins'),\n",
       " (2, 'normal_Albumin'),\n",
       " (0, 'normal_Bilirubin'),\n",
       " (0, 'normal_Alk_Phos'),\n",
       " (0, 'normal_SGOT')]"
      ]
     },
     "execution_count": 25,
     "metadata": {},
     "output_type": "execute_result"
    }
   ],
   "source": [
    "T=list(zip(model.feature_importances_,useful_features))\n",
    "T=sorted(T,key=lambda x: x[0], reverse=True)#[:-10]\n",
    "T"
   ]
  },
  {
   "cell_type": "code",
   "execution_count": 26,
   "id": "1c48e55c",
   "metadata": {
    "execution": {
     "iopub.execute_input": "2022-02-26T15:29:48.455731Z",
     "iopub.status.busy": "2022-02-26T15:29:48.454988Z",
     "iopub.status.idle": "2022-02-26T15:29:48.919050Z",
     "shell.execute_reply": "2022-02-26T15:29:48.918354Z",
     "shell.execute_reply.started": "2022-02-26T15:22:55.845250Z"
    },
    "papermill": {
     "duration": 0.52218,
     "end_time": "2022-02-26T15:29:48.919196",
     "exception": false,
     "start_time": "2022-02-26T15:29:48.397016",
     "status": "completed"
    },
    "tags": []
   },
   "outputs": [
    {
     "data": {
      "image/png": "[encoded data removed]",
      "text/plain": [
       "<Figure size 1440x720 with 1 Axes>"
      ]
     },
     "metadata": {},
     "output_type": "display_data"
    },
    {
     "data": {
      "text/plain": [
       "<Figure size 432x288 with 0 Axes>"
      ]
     },
     "metadata": {},
     "output_type": "display_data"
    }
   ],
   "source": [
    "import matplotlib.pyplot as plt\n",
    "import seaborn as sns\n",
    "import warnings\n",
    "warnings.simplefilter(action='ignore', category=FutureWarning)\n",
    "\n",
    "feature_imp = pd.DataFrame(T, columns=['Value','Feature'])\n",
    "\n",
    "plt.figure(figsize=(20, 10))\n",
    "sns.barplot(x=\"Value\", y=\"Feature\", data=feature_imp.sort_values(by=\"Value\", ascending=False))\n",
    "plt.title('LightGBM Features (avg over folds)')\n",
    "plt.tight_layout()\n",
    "plt.show()\n",
    "plt.savefig('lgbm_importances-01.png')"
   ]
  },
  {
   "cell_type": "code",
   "execution_count": 27,
   "id": "06cb5324",
   "metadata": {
    "execution": {
     "iopub.execute_input": "2022-02-26T15:29:49.029172Z",
     "iopub.status.busy": "2022-02-26T15:29:49.027563Z",
     "iopub.status.idle": "2022-02-26T15:29:49.033402Z",
     "shell.execute_reply": "2022-02-26T15:29:49.032707Z",
     "shell.execute_reply.started": "2022-02-26T15:22:56.444709Z"
    },
    "papermill": {
     "duration": 0.060634,
     "end_time": "2022-02-26T15:29:49.033548",
     "exception": false,
     "start_time": "2022-02-26T15:29:48.972914",
     "status": "completed"
    },
    "tags": []
   },
   "outputs": [
    {
     "name": "stdout",
     "output_type": "stream",
     "text": [
      "['Albumin_modified', 'Platelets', 'Age', 'N_Days', 'Alk_Phos', 'Copper', 'Prothrombin', 'Bilirubin_modified', 'SGOT_modified', 'Status_D', 'Drug_Placebo', 'Hepatomegaly_Y', 'Edema_S', 'Sex_M', 'Ascites_Y', 'Spiders_Y', 'Status_CL', 'Edema_Y', 'Age_bins']\n"
     ]
    }
   ],
   "source": [
    "filtered_features= [i[1] for i in T[:-4]]  \n",
    "print(filtered_features)"
   ]
  },
  {
   "cell_type": "markdown",
   "id": "13ad2b1e",
   "metadata": {
    "papermill": {
     "duration": 0.034265,
     "end_time": "2022-02-26T15:29:49.103803",
     "exception": false,
     "start_time": "2022-02-26T15:29:49.069538",
     "status": "completed"
    },
    "tags": []
   },
   "source": [
    "## We will now do all these steps at once:-"
   ]
  },
  {
   "cell_type": "code",
   "execution_count": 28,
   "id": "ff5202af",
   "metadata": {
    "execution": {
     "iopub.execute_input": "2022-02-26T15:29:49.178065Z",
     "iopub.status.busy": "2022-02-26T15:29:49.175482Z",
     "iopub.status.idle": "2022-02-26T15:29:49.209647Z",
     "shell.execute_reply": "2022-02-26T15:29:49.210008Z",
     "shell.execute_reply.started": "2022-02-26T15:28:25.741203Z"
    },
    "papermill": {
     "duration": 0.071904,
     "end_time": "2022-02-26T15:29:49.210155",
     "exception": false,
     "start_time": "2022-02-26T15:29:49.138251",
     "status": "completed"
    },
    "tags": []
   },
   "outputs": [],
   "source": [
    "#sample = pd.read_csv(\"../input/tabular-playground-series-feb-2022/sample_submission.csv\")\n",
    "train  = pd.read_csv(\"../input/liver-disease-competition/train_dataset.csv\")\n",
    "test = pd.read_csv(\"../input/liver-disease-competition/test_dataset.csv\")"
   ]
  },
  {
   "cell_type": "code",
   "execution_count": 29,
   "id": "81c7ffdd",
   "metadata": {
    "execution": {
     "iopub.execute_input": "2022-02-26T15:29:49.282646Z",
     "iopub.status.busy": "2022-02-26T15:29:49.282076Z",
     "iopub.status.idle": "2022-02-26T15:29:49.285447Z",
     "shell.execute_reply": "2022-02-26T15:29:49.285819Z",
     "shell.execute_reply.started": "2022-02-26T15:28:26.266754Z"
    },
    "papermill": {
     "duration": 0.041877,
     "end_time": "2022-02-26T15:29:49.285950",
     "exception": false,
     "start_time": "2022-02-26T15:29:49.244073",
     "status": "completed"
    },
    "tags": []
   },
   "outputs": [],
   "source": [
    "# meta data\n",
    "comp_name = 'liver_disease'\n",
    "target_name = 'Stage'\n",
    "id_name = 'ID'"
   ]
  },
  {
   "cell_type": "code",
   "execution_count": 30,
   "id": "c6182f8a",
   "metadata": {
    "execution": {
     "iopub.execute_input": "2022-02-26T15:29:49.363585Z",
     "iopub.status.busy": "2022-02-26T15:29:49.362988Z",
     "iopub.status.idle": "2022-02-26T15:29:49.555762Z",
     "shell.execute_reply": "2022-02-26T15:29:49.555173Z",
     "shell.execute_reply.started": "2022-02-26T15:28:26.882581Z"
    },
    "papermill": {
     "duration": 0.235306,
     "end_time": "2022-02-26T15:29:49.555885",
     "exception": false,
     "start_time": "2022-02-26T15:29:49.320579",
     "status": "completed"
    },
    "tags": []
   },
   "outputs": [
    {
     "name": "stdout",
     "output_type": "stream",
     "text": [
      "4\n"
     ]
    }
   ],
   "source": [
    "train.drop('Cholesterol',axis=1,inplace=True)  # because almost 44% nan value\n",
    "test.drop('Cholesterol',axis=1,inplace=True)\n",
    "\n",
    "train.drop('Tryglicerides',axis=1,inplace=True)  # because almost 40% nan value\n",
    "test.drop('Tryglicerides',axis=1,inplace=True)\n",
    "\n",
    "all_features = list(test.columns)[1:]\n",
    "\n",
    "df = pd.concat([train[all_features], test[all_features]], axis=0)\n",
    "dobj = df.select_dtypes(['object'])\n",
    "obj_cols= dobj.columns\n",
    "\n",
    "train[obj_cols]= train[obj_cols].fillna(value=train[obj_cols].mode().iloc[0,:])\n",
    "test[obj_cols]= test[obj_cols].fillna(value=test[obj_cols].mode().iloc[0,:])\n",
    "\n",
    "dobj = df.select_dtypes(exclude=['object'])\n",
    "int_cols = dobj.columns\n",
    "\n",
    "int_cols1 = ['Albumin','Platelets']\n",
    "int_cols2 = list(set(int_cols)- set(int_cols1))\n",
    "\n",
    "train[int_cols1]= train[int_cols1].fillna(value=train[int_cols1].mean())\n",
    "train[int_cols2]= train[int_cols2].fillna(value=train[int_cols2].mode().iloc[0,:])\n",
    "\n",
    "test[int_cols1]= test[int_cols1].fillna(value=test[int_cols1].mean())\n",
    "test[int_cols2]= test[int_cols2].fillna(value=test[int_cols2].mode().iloc[0,:])\n",
    "\n",
    "train['Bilirubin_modified'] = train['Bilirubin'] * 88.4\n",
    "test['Bilirubin_modified'] = test['Bilirubin'] * 88.4\n",
    "\n",
    "train['normal_Bilirubin'] = ((train.Bilirubin_modified <= 20) & (1 <= train.Bilirubin_modified)).astype(int)\n",
    "test['normal_Bilirubin'] = ((test.Bilirubin_modified <= 20) & (1 <= test.Bilirubin_modified)).astype(int)\n",
    "\n",
    "train['Albumin_modified'] = train['Albumin']* 10\n",
    "test['Albumin_modified'] = test['Albumin']* 10\n",
    "\n",
    "train['normal_Albumin'] = ((train.Albumin_modified <= 44) &  (train.Albumin_modified >= 32)).astype(int)\n",
    "test['normal_Albumin'] = ((test.Albumin_modified <= 44) &  (test.Albumin_modified >= 32)).astype(int)\n",
    "\n",
    "train['normal_Alk_Phos']  =  ((train['Alk_Phos'] <= 140 ) & (train['Alk_Phos'] >= 35 )).astype(int)\n",
    "test['normal_Alk_Phos']  =  ((test['Alk_Phos'] <= 140 ) & (test['Alk_Phos'] >= 35 )).astype(int)\n",
    "\n",
    "train['SGOT_modified'] = train['SGOT']* 1000\n",
    "test['SGOT_modified'] = test['SGOT']* 1000\n",
    "\n",
    "train['normal_SGOT']  =  ((train['SGOT_modified'] <= 30 ) & (train['SGOT_modified'] >= 5 )).astype(int)\n",
    "test['normal_SGOT']  =  ((test['SGOT_modified'] <= 30 ) & (test['SGOT_modified'] >= 5 )).astype(int)\n",
    "\n",
    "# Let's drop duplicates\n",
    "duplicate_cols = ['Bilirubin','Albumin','SGOT'] # we didn't create Alk_Phos_modified\n",
    "test.drop(duplicate_cols, axis=1,inplace=True)\n",
    "train.drop(duplicate_cols, axis=1,inplace=True)\n",
    "\n",
    "useful_cols = test.drop(\"ID\",axis=1).columns\n",
    "\n",
    "t = test.select_dtypes(['object'])\n",
    "obj_cols = t.columns\n",
    "\n",
    "train['isTrain'] = 1\n",
    "test['isTrain'] = 0\n",
    "\n",
    "df = pd.concat([train,test])\n",
    "\n",
    "df['Age_bins']= pd.cut(df.Age.astype(int), 5)\n",
    "\n",
    "from sklearn.preprocessing import OneHotEncoder, LabelEncoder\n",
    "label = LabelEncoder()\n",
    "df['Age_bins']=label.fit_transform(df['Age_bins'])\n",
    "\n",
    "df= pd.get_dummies(data= df,columns=obj_cols,drop_first= True)\n",
    "\n",
    "train = df[df.isTrain == 1]\n",
    "test = df[df.isTrain == 0]\n",
    "\n",
    "train.drop('isTrain', axis= 1,inplace=True)\n",
    "test.drop(['isTrain','Stage'], axis=1, inplace=True)\n",
    "useful_features = test.drop('ID',axis=1).columns.tolist()\n",
    "\n",
    "my_folds = train.copy()\n",
    "my_folds['Stage'].value_counts()  # we see it is unbalanced so we will use Stratified kfold\n",
    "#------------------------------ do it together to maintain same split\n",
    "import os\n",
    "import random\n",
    "import tensorflow as tf\n",
    "def seed_everything(seed=42):\n",
    "    os.environ['PYTHONHASHSEED'] = str(seed)\n",
    "    np.random.seed(seed)\n",
    "    random.seed(seed)\n",
    "    tf.random.set_seed(seed)\n",
    "    #torch.manual_seed(seed)\n",
    "seed_everything(17)\n",
    "print(np.random.randint(3,10)) # it should return 4\n",
    "\n",
    "skf = StratifiedKFold(n_splits=10, shuffle=True, random_state=21)\n",
    "#-----------------------------------\n",
    "for fold, (train_indices, valid_indices) in enumerate(skf.split(my_folds,my_folds.Stage)):\n",
    "    #print(fold)\n",
    "    my_folds.loc[valid_indices,'fold'] = fold\n",
    "my_folds.fold = my_folds.fold.astype(int) # convert fold column to int types\n",
    "useful_featurs = test.drop('ID',axis=1).columns.tolist()\n",
    "len(useful_features)\n",
    "#test = test[useful_features].copy()\n",
    "#--------------------------------LGBM\n",
    "useful_features = ['Albumin_modified', 'Platelets', 'Age', 'N_Days', 'Alk_Phos', 'Copper', 'Prothrombin', 'Bilirubin_modified', 'SGOT_modified', 'Status_D', 'Drug_Placebo', 'Hepatomegaly_Y', 'Edema_S', 'Sex_M', 'Ascites_Y', 'Spiders_Y', 'Status_CL', 'Edema_Y', 'Age_bins']\n",
    "test = test[['ID']+ useful_features  ]\n",
    "my_folds = my_folds[['ID']+ useful_features +['Stage','fold']]"
   ]
  },
  {
   "cell_type": "code",
   "execution_count": 31,
   "id": "a9ffddfd",
   "metadata": {
    "execution": {
     "iopub.execute_input": "2022-02-26T15:29:49.630883Z",
     "iopub.status.busy": "2022-02-26T15:29:49.630143Z",
     "iopub.status.idle": "2022-02-26T15:29:49.636144Z",
     "shell.execute_reply": "2022-02-26T15:29:49.635620Z",
     "shell.execute_reply.started": "2022-02-26T15:28:33.234340Z"
    },
    "papermill": {
     "duration": 0.046095,
     "end_time": "2022-02-26T15:29:49.636282",
     "exception": false,
     "start_time": "2022-02-26T15:29:49.590187",
     "status": "completed"
    },
    "tags": []
   },
   "outputs": [
    {
     "data": {
      "text/plain": [
       "Index(['ID', 'Albumin_modified', 'Platelets', 'Age', 'N_Days', 'Alk_Phos',\n",
       "       'Copper', 'Prothrombin', 'Bilirubin_modified', 'SGOT_modified',\n",
       "       'Status_D', 'Drug_Placebo', 'Hepatomegaly_Y', 'Edema_S', 'Sex_M',\n",
       "       'Ascites_Y', 'Spiders_Y', 'Status_CL', 'Edema_Y', 'Age_bins', 'Stage',\n",
       "       'fold'],\n",
       "      dtype='object')"
      ]
     },
     "execution_count": 31,
     "metadata": {},
     "output_type": "execute_result"
    }
   ],
   "source": [
    "my_folds.columns"
   ]
  },
  {
   "cell_type": "code",
   "execution_count": 32,
   "id": "a09fe8eb",
   "metadata": {
    "execution": {
     "iopub.execute_input": "2022-02-26T15:29:49.711676Z",
     "iopub.status.busy": "2022-02-26T15:29:49.711146Z",
     "iopub.status.idle": "2022-02-26T15:29:49.714581Z",
     "shell.execute_reply": "2022-02-26T15:29:49.714061Z",
     "shell.execute_reply.started": "2022-02-26T15:22:56.892131Z"
    },
    "papermill": {
     "duration": 0.044156,
     "end_time": "2022-02-26T15:29:49.714691",
     "exception": false,
     "start_time": "2022-02-26T15:29:49.670535",
     "status": "completed"
    },
    "tags": []
   },
   "outputs": [
    {
     "data": {
      "text/plain": [
       "Index(['ID', 'Albumin_modified', 'Platelets', 'Age', 'N_Days', 'Alk_Phos',\n",
       "       'Copper', 'Prothrombin', 'Bilirubin_modified', 'SGOT_modified',\n",
       "       'Status_D', 'Drug_Placebo', 'Hepatomegaly_Y', 'Edema_S', 'Sex_M',\n",
       "       'Ascites_Y', 'Spiders_Y', 'Status_CL', 'Edema_Y', 'Age_bins'],\n",
       "      dtype='object')"
      ]
     },
     "execution_count": 32,
     "metadata": {},
     "output_type": "execute_result"
    }
   ],
   "source": [
    "test.columns"
   ]
  },
  {
   "cell_type": "code",
   "execution_count": 33,
   "id": "31564d5c",
   "metadata": {
    "execution": {
     "iopub.execute_input": "2022-02-26T15:29:49.788075Z",
     "iopub.status.busy": "2022-02-26T15:29:49.787637Z",
     "iopub.status.idle": "2022-02-26T15:29:49.792536Z",
     "shell.execute_reply": "2022-02-26T15:29:49.791782Z",
     "shell.execute_reply.started": "2022-02-26T15:22:56.893549Z"
    },
    "papermill": {
     "duration": 0.044285,
     "end_time": "2022-02-26T15:29:49.792721",
     "exception": false,
     "start_time": "2022-02-26T15:29:49.748436",
     "status": "completed"
    },
    "tags": []
   },
   "outputs": [
    {
     "name": "stdout",
     "output_type": "stream",
     "text": [
      "(6800, 22) (3200, 20) 19\n"
     ]
    }
   ],
   "source": [
    "print(my_folds.shape, test.shape, len(useful_features))"
   ]
  },
  {
   "cell_type": "markdown",
   "id": "89a00bf6",
   "metadata": {
    "papermill": {
     "duration": 0.054083,
     "end_time": "2022-02-26T15:29:49.900420",
     "exception": false,
     "start_time": "2022-02-26T15:29:49.846337",
     "status": "completed"
    },
    "tags": []
   },
   "source": [
    "<a id=\"4\"></a>\n",
    "# <p style=\"background-color:#B721FF;font-family:newtimeroman;color:#444160;font-size:150%;text-align:center;border-radius:20px 60px;\">SAVE FOLDS</p>"
   ]
  },
  {
   "cell_type": "code",
   "execution_count": 34,
   "id": "d3c2820b",
   "metadata": {
    "execution": {
     "iopub.execute_input": "2022-02-26T15:29:50.035894Z",
     "iopub.status.busy": "2022-02-26T15:29:50.014866Z",
     "iopub.status.idle": "2022-02-26T15:29:50.143840Z",
     "shell.execute_reply": "2022-02-26T15:29:50.143135Z",
     "shell.execute_reply.started": "2022-02-26T15:22:56.895393Z"
    },
    "papermill": {
     "duration": 0.189265,
     "end_time": "2022-02-26T15:29:50.143985",
     "exception": false,
     "start_time": "2022-02-26T15:29:49.954720",
     "status": "completed"
    },
    "tags": []
   },
   "outputs": [],
   "source": [
    "my_folds.to_csv(\"Liver_disease_Folds.csv\",index=False)\n",
    "test.to_csv(\"test_updated.csv\", index=False)"
   ]
  },
  {
   "cell_type": "markdown",
   "id": "73ba7346",
   "metadata": {
    "papermill": {
     "duration": 0.056782,
     "end_time": "2022-02-26T15:29:50.256778",
     "exception": false,
     "start_time": "2022-02-26T15:29:50.199996",
     "status": "completed"
    },
    "tags": []
   },
   "source": [
    "<a id=\"5\"></a>\n",
    "## <p style=\"background-color:#B721FF;font-family:newtimeroman;color:#444160;font-size:150%;text-align:center;border-radius:20px 60px;\">CONCLUSION</p>\n",
    "<p style=\"font-family:newtimeroman;font-size:120%;color:#444160;\">Next we will do many types of feature engineering and train different modes. </p>\n",
    "\n",
    "**<span style=\"color:#444160;\"> Thanks!</span>**\n",
    "<a id=\"6\"></a>\n",
    "## <p style=\"background-color:#B721FF;font-family:newtimeroman;color:#444160;font-size:150%;text-align:center;border-radius:20px 60px;\">END</p>"
   ]
  }
 ],
 "metadata": {
  "kernelspec": {
   "display_name": "Python 3",
   "language": "python",
   "name": "python3"
  },
  "language_info": {
   "codemirror_mode": {
    "name": "ipython",
    "version": 3
   },
   "file_extension": ".py",
   "mimetype": "text/x-python",
   "name": "python",
   "nbconvert_exporter": "python",
   "pygments_lexer": "ipython3",
   "version": "3.7.12"
  },
  "papermill": {
   "default_parameters": {},
   "duration": 34.782153,
   "end_time": "2022-02-26T15:29:53.728700",
   "environment_variables": {},
   "exception": null,
   "input_path": "__notebook__.ipynb",
   "output_path": "__notebook__.ipynb",
   "parameters": {},
   "start_time": "2022-02-26T15:29:18.946547",
   "version": "2.3.3"
  }
 },
 "nbformat": 4,
 "nbformat_minor": 5
}
